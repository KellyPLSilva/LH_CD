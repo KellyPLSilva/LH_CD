{
  "nbformat": 4,
  "nbformat_minor": 0,
  "metadata": {
    "colab": {
      "private_outputs": true,
      "provenance": []
    },
    "kernelspec": {
      "name": "python3",
      "display_name": "Python 3"
    },
    "language_info": {
      "name": "python"
    }
  },
  "cells": [
    {
      "cell_type": "markdown",
      "source": [
        " # **Indicium** - Desafio Cientista de Dados - *Kelly Silva*\n"
      ],
      "metadata": {
        "id": "u3bCi8M_As9h"
      }
    },
    {
      "cell_type": "markdown",
      "source": [],
      "metadata": {
        "id": "7M3tnUEl8RKu"
      }
    },
    {
      "cell_type": "code",
      "source": [
        "#importando a biblioteca pandas\n",
        "%matplotlib inline\n",
        "import pandas as pd"
      ],
      "metadata": {
        "id": "vLbpimAl8yZT"
      },
      "execution_count": null,
      "outputs": []
    },
    {
      "cell_type": "markdown",
      "source": [],
      "metadata": {
        "id": "Cka6xNtW8Qc0"
      }
    },
    {
      "cell_type": "code",
      "source": [
        "df = pd.read_csv(\"/content/drive/MyDrive/Colab Notebooks/Datasets/cars_train.csv\", encoding='utf-16le', sep='\\t')"
      ],
      "metadata": {
        "id": "0RkZUR6CBZVk"
      },
      "execution_count": null,
      "outputs": []
    },
    {
      "cell_type": "code",
      "source": [
        "# Visualizando as 5 primeiras linhas\n",
        "df.head()"
      ],
      "metadata": {
        "id": "o0NcNqZJFHaL"
      },
      "execution_count": null,
      "outputs": []
    },
    {
      "cell_type": "code",
      "source": [
        "# Total de linhas e colunas\n",
        "df.shape"
      ],
      "metadata": {
        "id": "oVZ2AyLBHLw4"
      },
      "execution_count": null,
      "outputs": []
    },
    {
      "cell_type": "code",
      "source": [
        "# Apenas as colunas da planilha\n",
        "df.columns"
      ],
      "metadata": {
        "id": "cbh1eDk-JWKl"
      },
      "execution_count": null,
      "outputs": []
    },
    {
      "cell_type": "code",
      "source": [
        "# Quantidade de linhas e colunas\n",
        "df.dtypes"
      ],
      "metadata": {
        "id": "HVbR4g8FJcI6"
      },
      "execution_count": null,
      "outputs": []
    },
    {
      "cell_type": "markdown",
      "source": [],
      "metadata": {
        "id": "dc2GtM7OV0r5"
      }
    },
    {
      "cell_type": "code",
      "source": [
        "# As ultimas linhas do conjunto de dados.\n",
        "df.tail()"
      ],
      "metadata": {
        "id": "x9URkpdXKDAd"
      },
      "execution_count": null,
      "outputs": []
    },
    {
      "cell_type": "code",
      "source": [
        "# Retorna informações estatitica do banco de dados\n",
        "df.describe()"
      ],
      "metadata": {
        "id": "hvgVgXZxLrFv"
      },
      "execution_count": null,
      "outputs": []
    },
    {
      "cell_type": "code",
      "source": [
        "# Filtro\n",
        "df['preco'].unique()"
      ],
      "metadata": {
        "id": "YpM-hdhPMsgE"
      },
      "execution_count": null,
      "outputs": []
    },
    {
      "cell_type": "code",
      "source": [
        "# Consultando linhas com valores faltantes\n",
        "df.isnull().sum()"
      ],
      "metadata": {
        "id": "zmWK5PPWNYcf"
      },
      "execution_count": null,
      "outputs": []
    },
    {
      "cell_type": "code",
      "source": [
        "# Total vendas por\n",
        "\n",
        "df['preco'].value_counts()"
      ],
      "metadata": {
        "id": "82DbmScBUIOU"
      },
      "execution_count": null,
      "outputs": []
    },
    {
      "cell_type": "code",
      "source": [
        "# Tratar valores ausentes, se houver\n",
        "df = df.dropna()"
      ],
      "metadata": {
        "id": "3srSI0-BogJ4"
      },
      "execution_count": null,
      "outputs": []
    },
    {
      "cell_type": "code",
      "source": [
        "# Codificar variáveis categóricas, se necessário\n",
        "df = pd.get_dummies(df, columns=['marca', 'modelo', 'versao', 'cambio', 'cor'])"
      ],
      "metadata": {
        "id": "OtrKR_56of0x"
      },
      "execution_count": null,
      "outputs": []
    },
    {
      "cell_type": "code",
      "source": [
        "# Separar o dataset em X (variáveis preditoras) e y (variável alvo)\n",
        "X = df.drop('preco', axis=1)\n",
        "y = df['preco']"
      ],
      "metadata": {
        "id": "mSVitKbCo2R-"
      },
      "execution_count": null,
      "outputs": []
    },
    {
      "cell_type": "code",
      "source": [],
      "metadata": {
        "id": "7GAyFEmzpVi5"
      },
      "execution_count": null,
      "outputs": []
    }
  ]
}